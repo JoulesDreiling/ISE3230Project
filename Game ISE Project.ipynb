{
 "cells": [
  {
   "cell_type": "code",
   "execution_count": 14,
   "id": "812ef24d",
   "metadata": {},
   "outputs": [],
   "source": [
    "import gurobipy as g\n",
    "from gurobipy import *\n",
    "import bisect\n",
    "import collections\n",
    "import numpy as np\n",
    "import pandas as pd"
   ]
  },
  {
   "cell_type": "code",
   "execution_count": 16,
   "id": "e4fdcbb8",
   "metadata": {},
   "outputs": [
    {
     "name": "stdout",
     "output_type": "stream",
     "text": [
      "How many tables are there?\n",
      "3\n",
      "How many people can sit at each table?\n",
      "2\n"
     ]
    }
   ],
   "source": [
    "table_count = int(input('How many tables are there?\\n'))\n",
    "table_size = int(input('How many people can sit at each table?\\n'))"
   ]
  },
  {
   "cell_type": "code",
   "execution_count": 26,
   "id": "5b874a23",
   "metadata": {},
   "outputs": [
    {
     "name": "stdout",
     "output_type": "stream",
     "text": [
      "  Player A   Player B   Player C   Player D   Player E   Player F\n",
      "   Table 1    Table 3    Table 3    Table 2    Table 2    Table 1\n",
      "   Table 3    Table 1    Table 2    Table 1    Table 3    Table 2\n",
      "   Table 2    Table 2    Table 1    Table 3    Table 1    Table 3\n",
      " Round Person  Table\n",
      "     1      A      1\n",
      "     1      F      1\n",
      "     1      D      2\n",
      "     1      E      2\n",
      "     1      B      3\n",
      "     1      C      3\n",
      "     2      B      1\n",
      "     2      D      1\n",
      "     2      C      2\n",
      "     2      F      2\n",
      "     2      A      3\n",
      "     2      E      3\n",
      "     3      C      1\n",
      "     3      E      1\n",
      "     3      A      2\n",
      "     3      B      2\n",
      "     3      D      3\n",
      "     3      F      3\n"
     ]
    }
   ],
   "source": [
    "total_seats = table_count*table_size\n",
    "#player_count= int(input('How many people are at game night?\\n'))\n",
    "# our start at attempting to implement the bar idea, did not have enough time to implement fully\n",
    "#if (total_seats<player_count):\n",
    "#    print(\"bar created\")\n",
    "#    bar = True\n",
    "       \n",
    "table_sizes = [table_size for i in range(table_count)] # creates a list of tables and the number of seats at each\n",
    "    \n",
    "#N = sum(table_sizes) also the total_seats value, ie N is the number of seats\n",
    "#T = len(table_sizes) number of tables\n",
    "N = total_seats \n",
    "T = table_count\n",
    "table_to_index = collections.defaultdict(list)  # acts as a list with dictionary keys and resulting values, so we can append new values to each key as if each key had a corresponding list\n",
    "\n",
    "index_to_table = {} #creates a dictionary\n",
    "\n",
    "played_player = collections.defaultdict(lambda: collections.defaultdict(int)) # acts like a diciontary with keys and then the internal values are also pseudo dictionaries where the values are all ints\n",
    "acc = list(itertools.accumulate(table_sizes)) \n",
    "total_remaining = N*T\n",
    "\n",
    "#table to index is temp, only used here\n",
    "#treating each combination of players as an array, with each index as a different seat, index_to_table \n",
    "    #is used to move the index of the player in the combination array to the proper table\n",
    "for x in range(N):\n",
    "    table = bisect.bisect_right(acc, x)\n",
    "    table_to_index[table].append(x) \n",
    "    index_to_table[x] = table\n",
    "\n",
    "env = g.Env(empty=True)\n",
    "env.setParam(\"OutputFlag\",0)\n",
    "env.start()\n",
    "m = g.Model(env=env)\n",
    "\n",
    "idxs = m.addVars(N, name=\"idxs\", vtype=GRB.INTEGER)\n",
    "played_table = m.addVars(N*T, name=\"played_table\", vtype=GRB.INTEGER)\n",
    "\n",
    "played_constraints = [None]*(N*T) #played_constraints is a 2D array N*T in size that has a constraint for every player visiting every table\n",
    "for i in range(N):\n",
    "    for k in range(T):\n",
    "        played_constraints[k*N+i] = m.addConstr(played_table[k*N+i] == 0) #initialized every constraint to be = 0\n",
    "\n",
    "for i in range(N):\n",
    "    m.addConstr(idxs[i] >= 0) #index of player in combination array must be >= 0\n",
    "    m.addConstr(idxs[i] <= T-1) #index of player in combination array must be < number of players due to indexing from 0\n",
    "\n",
    "tbins = [None]*T\n",
    "for i in range(T):\n",
    "    tbins[i] = m.addVars(N, name=f\"tbins[{i}]\", vtype=GRB.BINARY)\n",
    "\n",
    "for table, size in enumerate(table_sizes):\n",
    "    for i in range(N):\n",
    "        m.addConstr((tbins[table][i] == 1) >> (idxs[i] == table))\n",
    "    m.addConstr(quicksum(tbins[table]) == size)\n",
    "\n",
    "obj = quicksum(played_table[j*N+i] * tbins[j][i] for i in range(N) for j in range(T))\n",
    "m.setObjective(obj, GRB.MINIMIZE)\n",
    "print(*[\"  Player \"  + f\"{chr(ord('A') + i)}\" for i in range(N)])\n",
    "mtrx = [] \n",
    "while True:\n",
    "    m.optimize()    \n",
    "    if (sum(played_table[i*N+j].x == 0 for i in range(T) for j in range(N))):\n",
    "        for i in range(N):\n",
    "            mtrx.append(int(idxs[i].x)+1)\n",
    "        print(*[\"   Table \" + f\"{int(idxs[i].x) + 1}\" for i in range(N)]) #plus one allows for better reading in context of problem\n",
    "    else:\n",
    "        break\n",
    "    for i in range(N):\n",
    "        table = int(idxs[i].x)\n",
    "        m.remove(played_constraints[table*N+i])\n",
    "        played_constraints[table*N+i] = m.addConstr(played_table[table*N+i] == played_table[table*N+i].x + 1)\n",
    "\n",
    "\n",
    "\n",
    "tbls = []\n",
    "for i in range(N): \n",
    "    tbls.append(chr(ord('A')+i))\n",
    "dt = np.array(mtrx)\n",
    "re_dt = dt.reshape(T, N) # reshapes array as matrix\n",
    "\n",
    "table_df = pd.DataFrame(re_dt, columns = tbls) \n",
    "#table_df['Round'] = [1,2,3] #range(X)\n",
    "table_df['Round'] = np.arange(1,T+1)\n",
    "\n",
    "\n",
    "new_df = pd.melt(table_df, id_vars=['Round'], var_name='Person', value_name='Table')\n",
    "new_df = new_df.sort_values(['Round', 'Table'], ascending=[True, True])\n",
    "\n",
    "print(new_df.to_string(index=False))"
   ]
  },
  {
   "cell_type": "code",
   "execution_count": null,
   "id": "1d5bd15e",
   "metadata": {},
   "outputs": [],
   "source": []
  }
 ],
 "metadata": {
  "kernelspec": {
   "display_name": "Python 3 (ipykernel)",
   "language": "python",
   "name": "python3"
  },
  "language_info": {
   "codemirror_mode": {
    "name": "ipython",
    "version": 3
   },
   "file_extension": ".py",
   "mimetype": "text/x-python",
   "name": "python",
   "nbconvert_exporter": "python",
   "pygments_lexer": "ipython3",
   "version": "3.9.12"
  }
 },
 "nbformat": 4,
 "nbformat_minor": 5
}
